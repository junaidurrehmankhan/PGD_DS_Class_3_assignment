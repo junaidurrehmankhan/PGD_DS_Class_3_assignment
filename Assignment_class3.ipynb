{
  "cells": [
    {
      "cell_type": "markdown",
      "metadata": {
        "id": "view-in-github",
        "colab_type": "text"
      },
      "source": [
        "<a href=\"https://colab.research.google.com/github/junaidurrehmankhan/class_3_assignment/blob/main/Assignment_class3.ipynb\" target=\"_parent\"><img src=\"https://colab.research.google.com/assets/colab-badge.svg\" alt=\"Open In Colab\"/></a>"
      ]
    },
    {
      "cell_type": "markdown",
      "metadata": {
        "id": "5ok7bAK6aF1F"
      },
      "source": [
        "**Assignment 1: String Concatenation and Formatting**"
      ]
    },
    {
      "cell_type": "code",
      "execution_count": 7,
      "metadata": {
        "colab": {
          "base_uri": "https://localhost:8080/"
        },
        "id": "zDYuA9z0aCYV",
        "outputId": "82a027af-3160-4e39-cc57-19e6baa3bbbd"
      },
      "outputs": [
        {
          "output_type": "stream",
          "name": "stdout",
          "text": [
            "My name is Junaid, I am 33 years old, and I live in UAE.\n"
          ]
        }
      ],
      "source": [
        "name = \"Junaid\"\n",
        "age = 33\n",
        "country = \"UAE\"\n",
        "text = \"My name is \" + name + \", I am \" + str(age) + \" years old, and I live in \" + country + \".\"\n",
        "print (text)"
      ]
    },
    {
      "cell_type": "code",
      "execution_count": 8,
      "metadata": {
        "colab": {
          "base_uri": "https://localhost:8080/"
        },
        "id": "iP9TRULAeuUT",
        "outputId": "87e75529-bc7e-4858-fa7c-ef216fa9cf20"
      },
      "outputs": [
        {
          "output_type": "stream",
          "name": "stdout",
          "text": [
            "My name is Junaid, I am 33 years old, and I live in UAE.\n"
          ]
        }
      ],
      "source": [
        "name = \"Junaid\"\n",
        "age = 33\n",
        "country = \"UAE\"\n",
        "\n",
        "text = \"My name is \" + name + \", I am \" + str(age) + \" years old, and I live in \" + country + \".\"\n",
        "print(text)"
      ]
    },
    {
      "cell_type": "code",
      "execution_count": null,
      "metadata": {
        "colab": {
          "base_uri": "https://localhost:8080/"
        },
        "id": "L80ymyAde9gg",
        "outputId": "dbdc814f-3b62-4e62-9d95-162779f4ec9a"
      },
      "outputs": [
        {
          "name": "stdout",
          "output_type": "stream",
          "text": [
            "My name is Junaid, I am 33 years old, and I live in UAE.\n"
          ]
        }
      ],
      "source": [
        "name = \"Junaid\"\n",
        "age = 33\n",
        "country = \"UAE\"\n",
        "\n",
        "print (\"My name is \" + name + \", I am \" + str(age) + \" years old, and I live in \" + country + \".\")"
      ]
    },
    {
      "cell_type": "code",
      "execution_count": null,
      "metadata": {
        "colab": {
          "base_uri": "https://localhost:8080/"
        },
        "id": "-Tf2PeTfgG4k",
        "outputId": "28817f36-e2d6-4862-d751-3126938bf096"
      },
      "outputs": [
        {
          "name": "stdout",
          "output_type": "stream",
          "text": [
            "My name is Junaid, I am 33 years old, and I live in UAE.\n"
          ]
        }
      ],
      "source": [
        "name = \"Junaid\"\n",
        "age = 33\n",
        "country = \"UAE\"\n",
        "\n",
        "print (\"My name is \" + name + \", I am \" + str(age) + \" years old, and I live in \" + country + \".\")"
      ]
    },
    {
      "cell_type": "code",
      "execution_count": null,
      "metadata": {
        "colab": {
          "base_uri": "https://localhost:8080/"
        },
        "id": "rmkDU3lqhAxT",
        "outputId": "96df7db3-ef9e-4d99-fe46-6284d04f9d61"
      },
      "outputs": [
        {
          "name": "stdout",
          "output_type": "stream",
          "text": [
            "My name is Junaid, I am 33 years old, and I live in UAE.\n"
          ]
        }
      ],
      "source": [
        "name = \"Junaid\"\n",
        "age = 33\n",
        "country = \"UAE\"\n",
        "print (\"My name is \" + name + \", I am \" + str(age) + \" years old, and I live in \" + country + \".\")"
      ]
    },
    {
      "cell_type": "markdown",
      "metadata": {
        "id": "VMgg4BAJiYQE"
      },
      "source": [
        "**Assignment 2: String Formatting using `.format()`**"
      ]
    },
    {
      "cell_type": "code",
      "execution_count": 11,
      "metadata": {
        "colab": {
          "base_uri": "https://localhost:8080/"
        },
        "id": "j_pTg2PNsr9s",
        "outputId": "4ad9ebb1-fe97-418d-9019-e584b02658af"
      },
      "outputs": [
        {
          "output_type": "stream",
          "name": "stdout",
          "text": [
            "I bought 3 apple(s) at 1.25 each, for a total of $3.75.\n"
          ]
        }
      ],
      "source": [
        "quantity = 3\n",
        "item = \"apple\"\n",
        "price = float(1.25)\n",
        "total_cost = quantity * price\n",
        "\n",
        "print (\"I bought {} {}(s) at {} each, for a total of ${:.2f}.\".format(quantity, item, price, total_cost))"
      ]
    },
    {
      "cell_type": "code",
      "execution_count": null,
      "metadata": {
        "colab": {
          "base_uri": "https://localhost:8080/"
        },
        "id": "PBiTFd2EyCSr",
        "outputId": "f1723f7d-338f-4b14-b4ea-0df015e85f1a"
      },
      "outputs": [
        {
          "name": "stdout",
          "output_type": "stream",
          "text": [
            "I bought 2 Mcbook(s) at 10599.0 each, for a total of $21198.0.\n"
          ]
        }
      ],
      "source": [
        "laptop = \"Mcbook\"\n",
        "price = 10599.00\n",
        "quantity = 2\n",
        "total_cost = price * quantity\n",
        "\n",
        "print (\"I bought {} {}(s) at {} each, for a total of ${}.\".format(quantity, laptop, price, total_cost))"
      ]
    },
    {
      "cell_type": "markdown",
      "metadata": {
        "id": "jo1eyXc57pI-"
      },
      "source": [
        "**Assignment 3: String Interpolation using `f''`**"
      ]
    },
    {
      "cell_type": "code",
      "source": [
        "city = \"Karachi\"\n",
        "temperature = 34\n",
        "\n",
        "text = f\"Temperature in {city} is {temperature} degree celcius.\"\n",
        "print(text)"
      ],
      "metadata": {
        "colab": {
          "base_uri": "https://localhost:8080/"
        },
        "id": "vi2zNFr8LGB7",
        "outputId": "d1bf426a-1fa8-4eeb-cd3b-a0cc71f2d63d"
      },
      "execution_count": 12,
      "outputs": [
        {
          "output_type": "stream",
          "name": "stdout",
          "text": [
            "Temperature in Karachi is 34 degree celcius.\n"
          ]
        }
      ]
    },
    {
      "cell_type": "markdown",
      "source": [
        "**Assignment 4: String Formatting using `%()`**"
      ],
      "metadata": {
        "id": "MwIksM3DUl2T"
      }
    },
    {
      "cell_type": "code",
      "source": [
        "first_name = \"Junaid\"\n",
        "last_name = \"Khan\"\n",
        "birth_year = 1990\n",
        "current_year = 2023\n",
        "age = current_year - birth_year\n",
        "\n",
        "text = (\"My name is %(first_name)s %(last_name)s and I am %(age)d years old.\") %{\"first_name\": first_name, \"last_name\": last_name, \"age\": age}\n",
        "print (text)"
      ],
      "metadata": {
        "colab": {
          "base_uri": "https://localhost:8080/"
        },
        "id": "_ydsS00AUqOc",
        "outputId": "c8b2d20a-33d6-4a36-877b-b89f44f514fc"
      },
      "execution_count": null,
      "outputs": [
        {
          "output_type": "stream",
          "name": "stdout",
          "text": [
            "My name is Junaid Khan and I am 33 years old.\n"
          ]
        }
      ]
    },
    {
      "cell_type": "markdown",
      "source": [
        "**Assignment 5: Combining Formatting Methods**"
      ],
      "metadata": {
        "id": "0_KRGMKVkk7J"
      }
    },
    {
      "cell_type": "code",
      "source": [
        "smart_phone = \"apple_iphone\"\n",
        "discount = 10\n",
        "original_price = 5100\n",
        "discounted_price = original_price *(1-discount/ 100)\n",
        "text = f\"smart_phone: {smart_phone}\\noriginal_price: AED{original_price: .2f}\\ndiscount: {discount}%\\ndiscouted_price: AED{discounted_price: .2f}\"\n",
        "print (text)"
      ],
      "metadata": {
        "colab": {
          "base_uri": "https://localhost:8080/"
        },
        "id": "CbXQXVrEkthH",
        "outputId": "40c6120d-d6b4-46f4-9f26-52d1b6f4d4ca"
      },
      "execution_count": 6,
      "outputs": [
        {
          "output_type": "stream",
          "name": "stdout",
          "text": [
            "smart_phone: apple_iphone\n",
            "original_price: AED 5100.00\n",
            "discount: 10%\n",
            "discouted_price: AED 4590.00\n"
          ]
        }
      ]
    },
    {
      "cell_type": "code",
      "source": [
        "\n",
        "product = \"Smartphone\"\n",
        "discount = 5\n",
        "original_price = 5000\n",
        "discounted_price = original_price * (1 - discount / 100)\n",
        "descriptive_string = f\"Product: {product}\\nOriginal Price: ${original_price:.2f}\\nDiscount: {discount}%\\nDiscounted Price: ${discounted_price:.2f}\"\n",
        "\n",
        "print(descriptive_string)"
      ],
      "metadata": {
        "colab": {
          "base_uri": "https://localhost:8080/"
        },
        "id": "8ZB2uAzhmzsu",
        "outputId": "9ed0e5b9-f895-4827-ae64-1045cac3320b"
      },
      "execution_count": 4,
      "outputs": [
        {
          "output_type": "stream",
          "name": "stdout",
          "text": [
            "Product: Smartphone\n",
            "Original Price: $5000.00\n",
            "Discount: 5%\n",
            "Discounted Price: $4750.00\n"
          ]
        }
      ]
    }
  ],
  "metadata": {
    "accelerator": "GPU",
    "colab": {
      "provenance": [],
      "authorship_tag": "ABX9TyM3IqkK5O+AJINwSlpQmmlr",
      "include_colab_link": true
    },
    "kernelspec": {
      "display_name": "Python 3",
      "name": "python3"
    },
    "language_info": {
      "name": "python"
    }
  },
  "nbformat": 4,
  "nbformat_minor": 0
}